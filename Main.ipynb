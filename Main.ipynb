{
 "cells": [
  {
   "cell_type": "code",
   "execution_count": 104,
   "id": "2cc60742-1222-4198-8056-8ecdacbc3f38",
   "metadata": {
    "editable": true,
    "scrolled": true,
    "slideshow": {
     "slide_type": ""
    },
    "tags": []
   },
   "outputs": [
    {
     "data": {
      "application/vnd.jupyter.widget-view+json": {
       "model_id": "31b1a796231f411cabd3783ab23349c6",
       "version_major": 2,
       "version_minor": 0
      },
      "text/plain": [
       "HBox(children=(Checkbox(value=False, description='Call', indent=False), Checkbox(value=False, description='Put…"
      ]
     },
     "metadata": {},
     "output_type": "display_data"
    },
    {
     "data": {
      "application/vnd.jupyter.widget-view+json": {
       "model_id": "0375ca6aec924429920b360ff81dbea3",
       "version_major": 2,
       "version_minor": 0
      },
      "text/plain": [
       "HBox(children=(Combobox(value='100', description='Stock Price :', placeholder='100'), Text(value='', descripti…"
      ]
     },
     "metadata": {},
     "output_type": "display_data"
    },
    {
     "data": {
      "application/vnd.jupyter.widget-view+json": {
       "model_id": "a6234a63731245caba02270b17232f1c",
       "version_major": 2,
       "version_minor": 0
      },
      "text/plain": [
       "HBox(children=(Combobox(value='100', description='Strike Price :', placeholder='100'), Text(value='', descript…"
      ]
     },
     "metadata": {},
     "output_type": "display_data"
    },
    {
     "data": {
      "application/vnd.jupyter.widget-view+json": {
       "model_id": "177f23cc0d914a68bcf4763e3dfc7b6e",
       "version_major": 2,
       "version_minor": 0
      },
      "text/plain": [
       "HBox(children=(Combobox(value='0.2', description='Volatility :', placeholder='0.2'), Text(value='', descriptio…"
      ]
     },
     "metadata": {},
     "output_type": "display_data"
    },
    {
     "data": {
      "application/vnd.jupyter.widget-view+json": {
       "model_id": "0a67307e66ad4012b583af602ed684ac",
       "version_major": 2,
       "version_minor": 0
      },
      "text/plain": [
       "HBox(children=(Combobox(value='0.02', description='Interest rate :', placeholder='0.03'), Text(value='', descr…"
      ]
     },
     "metadata": {},
     "output_type": "display_data"
    },
    {
     "data": {
      "application/vnd.jupyter.widget-view+json": {
       "model_id": "65e73b2f9af747c39a92225f374b8bcb",
       "version_major": 2,
       "version_minor": 0
      },
      "text/plain": [
       "HBox(children=(Combobox(value='0.05', description='Dividend yield :', placeholder='0.05'), Text(value='', desc…"
      ]
     },
     "metadata": {},
     "output_type": "display_data"
    },
    {
     "data": {
      "application/vnd.jupyter.widget-view+json": {
       "model_id": "a82053f3fb95444680ab5cb0a28e5450",
       "version_major": 2,
       "version_minor": 0
      },
      "text/plain": [
       "HBox(children=(Combobox(value='1', description='Maturity :', placeholder='1.5'), Text(value='', description='R…"
      ]
     },
     "metadata": {},
     "output_type": "display_data"
    },
    {
     "data": {
      "application/vnd.jupyter.widget-view+json": {
       "model_id": "07ce78a0a67c4380a99da89de5dc1bb5",
       "version_major": 2,
       "version_minor": 0
      },
      "text/plain": [
       "Button(description='Price !', style=ButtonStyle())"
      ]
     },
     "metadata": {},
     "output_type": "display_data"
    },
    {
     "data": {
      "application/vnd.jupyter.widget-view+json": {
       "model_id": "5c21d3d8cf004d3d82e53b507f31f31c",
       "version_major": 2,
       "version_minor": 0
      },
      "text/plain": [
       "Output()"
      ]
     },
     "metadata": {},
     "output_type": "display_data"
    }
   ],
   "source": [
    "#V:1.1 - Coded by Alexandre Ménard - 2024\n",
    "import ipywidgets as W\n",
    "import pandas as pd\n",
    "import matplotlib.pyplot as plt\n",
    "import numpy as np\n",
    "from IPython.display import display\n",
    "from numpy import exp, sqrt, log\n",
    "from scipy import stats\n",
    "from math import *\n",
    "\n",
    "#Global var\n",
    "type_opt = \"\"\n",
    "spot = 0\n",
    "strike = 0\n",
    "volatility = 0\n",
    "interest_rate = 0\n",
    "maturity = 0\n",
    "dividend = 0\n",
    "d1 = 0\n",
    "d2 = 0\n",
    "d1RC = 0\n",
    "delta = 0\n",
    "gamma = 0\n",
    "vega = 0\n",
    "theta = 0\n",
    "rho = 0\n",
    "\n",
    "def european_opt_pricing(b):\n",
    "    output.clear_output()\n",
    "    if (call_checkbox.value == True and put_checkbox.value == False) or (call_checkbox.value == False and put_checkbox.value == True):\n",
    "        global type_opt\n",
    "        if call_checkbox.value == True and put_checkbox.value == False:\n",
    "            type_opt = 'Call'\n",
    "        elif call_checkbox.value == False and put_checkbox.value == True:\n",
    "            type_opt = 'Put'\n",
    "\n",
    "        global spot\n",
    "        global strike\n",
    "        global volatility\n",
    "        global interest_rate\n",
    "        global maturity\n",
    "        global dividend\n",
    "        spot = float(stock_price_box.value)\n",
    "        strike = float(strike_price_box.value)\n",
    "        volatility = float(volatility_box.value)\n",
    "        interest_rate = float(interest_rate_box.value)\n",
    "        maturity = float(maturity_box.value)\n",
    "        dividend = float(dividend_rate_box.value)\n",
    "\n",
    "        #Greeks (1st order)\n",
    "        delta_opt(spot)\n",
    "        gamma_opt(spot)\n",
    "        vega_opt(spot)\n",
    "        theta_opt(spot)\n",
    "        rho_opt(spot)\n",
    "    \n",
    "        if type_opt == 'Call':\n",
    "            price_opt = round(spot*stats.norm.cdf(d1)*exp(-dividend*maturity)-strike*(exp(-interest_rate*maturity))*stats.norm.cdf(d2),2)\n",
    "        elif type_opt == 'Put':\n",
    "            price_opt = round(strike*(exp(-interest_rate*maturity))*stats.norm.cdf(-d2)-spot*stats.norm.cdf(-d1)*exp(-dividend*maturity),2)\n",
    "        \n",
    "        #if type_opt == 'Call':\n",
    "            #rho = round((strike*maturity*exp(-interest_rate*maturity)*stats.norm.cdf(d2))/100,4)\n",
    "        #elif type_opt == 'Put':\n",
    "            #rho = round((-strike*maturity*exp(-interest_rate*maturity)*stats.norm.cdf(-d2))/100,4)\n",
    "            \n",
    "        #Results\n",
    "        with output:\n",
    "            print(\"Param : \" + str(spot) + \",\" + str(strike) + \",\" + str(volatility) + \",\" + str(interest_rate) + \",\" + str(maturity) + \",\" + str(dividend))\n",
    "            print(\"D1 : \" + str(d1))\n",
    "            print(\"D2 : \" + str(d2))\n",
    "            \n",
    "        Price_box.value = str(price_opt)\n",
    "        Delta_box.value = str(round(delta,4))\n",
    "        Gamma_box.value = str(round(gamma,4))\n",
    "        Vega_box.value = str(round(vega,4))\n",
    "        Rho_box.value = str(round(rho,4))\n",
    "        Theta_box.value = str(round(theta,5))\n",
    "        \n",
    "        with output:\n",
    "            print(\"Pricing...\")\n",
    "            print(\"Final price : \" + str(price_opt))\n",
    "            delta_chart_button.disabled=False\n",
    "            gamma_chart_button.disabled=False\n",
    "            vega_chart_button.disabled=False\n",
    "            theta_chart_button.disabled=False\n",
    "            rho_chart_button.disabled=False\n",
    "            #print(\"D1 prime : \" + str(d1RC)) #For checking..\n",
    "            #print(type(spot)) #For checking..\n",
    "            #spot = np.linspace(1,200,100)\n",
    "            #plt.plot(spot, delta_opt(spot,strike,volatility,interest_rate,maturity,dividend), color='red')\n",
    "            #plt.xlim(0,200)\n",
    "            #plt.ylim(\n",
    "            #plt.plot([1, 2, 3, 4])\n",
    "            #plt.ylabel('some numbers')\n",
    "            #plt.show()\n",
    "    else:\n",
    "        with output:\n",
    "            print(\"Please select call or put option, not both!\")\n",
    "            delta_chart_button.disabled=True\n",
    "            gamma_chart_button.disabled=True\n",
    "            vega_chart_button.disabled=True\n",
    "            theta_chart_button.disabled=True\n",
    "            rho_chart_button.disabled=True\n",
    "\n",
    "def delta_chart(b):\n",
    "    spot_temp = float(stock_price_box.value)\n",
    "    output.clear_output()\n",
    "    with output:\n",
    "        spot_temp = np.linspace(spot_temp/2,spot_temp*1.75,100)\n",
    "        plt.plot(spot_temp, delta_opt(spot_temp), color='red')\n",
    "        plt.show()\n",
    "\n",
    "def delta_opt(spot):\n",
    "    global d1\n",
    "    global d2\n",
    "    global delta\n",
    "    global d1RC\n",
    "    if type_opt == 'Call':\n",
    "        d1 = ((np.log(spot/strike)+((interest_rate-dividend)+(volatility**2)/2)*maturity)/(volatility*(maturity)))\n",
    "        delta = stats.norm.cdf(d1)*exp(-dividend*maturity)\n",
    "        d2 = d1-volatility*np.sqrt(maturity)\n",
    "        d1RC = (1/(np.sqrt(2*pi)))*np.exp(-(d1**2)/2)\n",
    "    elif type_opt == 'Put':\n",
    "        d1 = ((np.log(spot/strike)+((interest_rate-dividend)+(volatility**2)/2)*maturity)/(volatility*(maturity)))\n",
    "        delta = -(stats.norm.cdf(-d1)*exp(-dividend*maturity))\n",
    "        d2 = d1-volatility*np.sqrt(maturity)\n",
    "        d1RC = (1/(np.sqrt(2*pi)))*np.exp(-(d1**2)/2)\n",
    "    return delta\n",
    "\n",
    "def gamma_chart(b):\n",
    "    spot_temp = float(stock_price_box.value)\n",
    "    output.clear_output()\n",
    "    with output:\n",
    "        spot_temp = np.linspace(spot_temp/2,spot_temp*1.75,100)\n",
    "        plt.plot(spot_temp, gamma_opt(spot_temp), color='red')\n",
    "        plt.show()\n",
    "\n",
    "def gamma_opt(spot):\n",
    "    global gamma\n",
    "    d1 = ((np.log(spot/strike)+((interest_rate-dividend)+(volatility**2)/2)*maturity)/(volatility*(maturity)))\n",
    "    d1RC = (1/(np.sqrt(2*pi)))*np.exp(-(d1**2)/2)\n",
    "    gamma = (d1RC*np.exp(-dividend*maturity))/(spot*volatility*np.sqrt(maturity))\n",
    "    return gamma\n",
    "\n",
    "def vega_chart(b):\n",
    "    spot_temp = float(stock_price_box.value)\n",
    "    output.clear_output()\n",
    "    with output:\n",
    "        spot_temp = np.linspace(spot_temp/2,spot_temp*1.75,100)\n",
    "        plt.plot(spot_temp, vega_opt(spot_temp), color='red')\n",
    "        plt.show()\n",
    "\n",
    "def vega_opt(spot):\n",
    "    global vega\n",
    "    d1 = ((np.log(spot/strike)+((interest_rate-dividend)+(volatility**2)/2)*maturity)/(volatility*(maturity)))\n",
    "    d1RC = (1/(np.sqrt(2*pi)))*np.exp(-(d1**2)/2)\n",
    "    vega = (d1RC*np.exp(-dividend*maturity)*np.sqrt(maturity)*spot)/100\n",
    "    return vega\n",
    "\n",
    "def theta_chart(b):\n",
    "    spot_temp = float(stock_price_box.value)\n",
    "    output.clear_output()\n",
    "    with output:\n",
    "        spot_temp = np.linspace(1,spot_temp*2,100)\n",
    "        plt.plot(spot_temp, theta_opt(spot_temp), color='red')\n",
    "        plt.show()\n",
    "\n",
    "def theta_opt(spot):\n",
    "    global theta\n",
    "    d1 = ((np.log(spot/strike)+((interest_rate-dividend)+(volatility**2)/2)*maturity)/(volatility*(maturity)))\n",
    "    d2 = d1-volatility*np.sqrt(maturity)\n",
    "    d1RC = (1/(np.sqrt(2*pi)))*np.exp(-(d1**2)/2)    \n",
    "    if type_opt == 'Call':\n",
    "        theta = (-((d1RC*(spot*np.exp(-dividend*maturity))*volatility)/(2*sqrt(maturity)))-interest_rate*(strike*exp(-interest_rate*maturity))*stats.norm.cdf(d2)+dividend*(spot*exp(-dividend*maturity))*stats.norm.cdf(d1))/252\n",
    "    elif type_opt == 'Put':          \n",
    "        theta = (-((d1RC*(spot*np.exp(-dividend*maturity))*volatility)/(2*sqrt(maturity)))+interest_rate*(strike*exp(-interest_rate*maturity))*stats.norm.cdf(-d2)-dividend*(spot*exp(-dividend*maturity))*stats.norm.cdf(-d1))/252\n",
    "    return theta\n",
    "\n",
    "def rho_chart(b):\n",
    "    spot_temp = float(stock_price_box.value)\n",
    "    output.clear_output()\n",
    "    with output:\n",
    "        spot_temp = np.linspace(1,spot_temp*2,100)\n",
    "        plt.plot(spot_temp, rho_opt(spot_temp), color='red')\n",
    "        plt.show()\n",
    "\n",
    "def rho_opt(spot):\n",
    "    global rho\n",
    "    d1 = ((np.log(spot/strike)+((interest_rate-dividend)+(volatility**2)/2)*maturity)/(volatility*(maturity)))\n",
    "    d2 = d1-volatility*np.sqrt(maturity)   \n",
    "    if type_opt == 'Call':\n",
    "        rho = (strike*maturity*exp(-interest_rate*maturity)*stats.norm.cdf(d2))/100\n",
    "    elif type_opt == 'Put':\n",
    "        rho = (-strike*maturity*exp(-interest_rate*maturity)*stats.norm.cdf(-d2))/100\n",
    "    return rho\n",
    "    \n",
    "stock_price_box = W.Combobox(value='100', placeholder='100', description='Stock Price :')\n",
    "strike_price_box = W.Combobox(value='100', placeholder='100', description='Strike Price :')\n",
    "volatility_box = W.Combobox(value='0.2', placeholder='0.2', description='Volatility :')\n",
    "interest_rate_box = W.Combobox(value='0.02', placeholder='0.03', description='Interest rate :')\n",
    "maturity_box = W.Combobox(value='1', placeholder='1.5', description='Maturity :')\n",
    "dividend_rate_box = W.Combobox(value='0.05', placeholder='0.05', description='Dividend yield :')\n",
    "price_button = W.Button(description='Price !',disabled=False)\n",
    "delta_chart_button = W.Button(description='Get Chart',disabled=True)\n",
    "gamma_chart_button = W.Button(description='Get Chart',disabled=True)\n",
    "theta_chart_button = W.Button(description='Get Chart',disabled=True)\n",
    "vega_chart_button = W.Button(description='Get Chart',disabled=True)\n",
    "rho_chart_button = W.Button(description='Get Chart',disabled=True)\n",
    "output = W.Output()\n",
    "call_checkbox = W.Checkbox(value=False,description='Call',disabled=False,indent=False)\n",
    "put_checkbox = W.Checkbox(value=False,description='Put',disabled=False,indent=False)\n",
    "Price_box = W.Text(value='',placeholder='Please price',description='Final Price:',disabled=True)\n",
    "Delta_box = W.Text(value='',placeholder='Please price',description='Delta:',disabled=True)\n",
    "Gamma_box = W.Text(value='',placeholder='Please price',description='Gamma:',disabled=True)\n",
    "Theta_box = W.Text(value='',placeholder='Please price',description='Theta:',disabled=True)\n",
    "Vega_box = W.Text(value='',placeholder='Please price',description='Vega:',disabled=True)\n",
    "Rho_box = W.Text(value='',placeholder='Please price',description='Rho:',disabled=True)\n",
    "\n",
    "type_opt = W.HBox([call_checkbox, put_checkbox])\n",
    "line1 = W.HBox([stock_price_box, Price_box])\n",
    "line2 = W.HBox([strike_price_box, Delta_box, delta_chart_button])\n",
    "line3 = W.HBox([volatility_box, Gamma_box, gamma_chart_button])\n",
    "line4 = W.HBox([interest_rate_box, Theta_box, theta_chart_button])\n",
    "line5 = W.HBox([dividend_rate_box, Vega_box, vega_chart_button])\n",
    "line6 = W.HBox([maturity_box, Rho_box, rho_chart_button])\n",
    "#type_opt = W.HBox([W.Checkbox(value=False,description='Call',disabled=False,indent=False),W.Checkbox(value=False,description='Put',disabled=False,indent=False)])\n",
    "\n",
    "display(type_opt)\n",
    "display(line1)\n",
    "display(line2)\n",
    "display(line3)\n",
    "display(line4)\n",
    "display(line5)\n",
    "display(line6)\n",
    "display(price_button,output)\n",
    "    \n",
    "price_button.on_click(european_opt_pricing)\n",
    "delta_chart_button.on_click(delta_chart)\n",
    "gamma_chart_button.on_click(gamma_chart)\n",
    "vega_chart_button.on_click(vega_chart)\n",
    "theta_chart_button.on_click(theta_chart)\n",
    "rho_chart_button.on_click(rho_chart)\n",
    "    "
   ]
  },
  {
   "cell_type": "code",
   "execution_count": null,
   "id": "e1717de7-0430-4f72-a885-c5b2af6a14f4",
   "metadata": {},
   "outputs": [],
   "source": []
  },
  {
   "cell_type": "code",
   "execution_count": null,
   "id": "8df2c583-d182-4b15-a0fd-570cfb27850b",
   "metadata": {},
   "outputs": [],
   "source": []
  }
 ],
 "metadata": {
  "kernelspec": {
   "display_name": "Python 3 (ipykernel)",
   "language": "python",
   "name": "python3"
  },
  "language_info": {
   "codemirror_mode": {
    "name": "ipython",
    "version": 3
   },
   "file_extension": ".py",
   "mimetype": "text/x-python",
   "name": "python",
   "nbconvert_exporter": "python",
   "pygments_lexer": "ipython3",
   "version": "3.12.3"
  }
 },
 "nbformat": 4,
 "nbformat_minor": 5
}
